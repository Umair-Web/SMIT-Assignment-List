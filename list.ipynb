{
 "cells": [
  {
   "cell_type": "markdown",
   "metadata": {},
   "source": [
    "Q:1"
   ]
  },
  {
   "cell_type": "code",
   "execution_count": 2,
   "metadata": {},
   "outputs": [
    {
     "name": "stdout",
     "output_type": "stream",
     "text": [
      "1\n",
      "3\n",
      "5\n",
      "7\n",
      "9\n"
     ]
    }
   ],
   "source": [
    "a=list(input(\"Enter list:\"))\n",
    "for i in range(0,len(a),2):\n",
    "    print(a[i])"
   ]
  },
  {
   "cell_type": "markdown",
   "metadata": {},
   "source": [
    "Q:2"
   ]
  },
  {
   "cell_type": "code",
   "execution_count": 1,
   "metadata": {},
   "outputs": [
    {
     "name": "stdout",
     "output_type": "stream",
     "text": [
      "['1', '2', '3', '4', '5']\n",
      "['5', '4', '3', '2', '1']\n"
     ]
    }
   ],
   "source": [
    "List=[]\n",
    "for i in range(0,5):\n",
    " a=input(\"Enter list item:\")\n",
    " List.append(a)\n",
    "print(List)\n",
    "reverselist=[]\n",
    "for i in range(4,-1,-1):\n",
    "    reverselist.append(List[i])\n",
    "print(reverselist)\n",
    "\n"
   ]
  },
  {
   "cell_type": "markdown",
   "metadata": {},
   "source": [
    "Q:3"
   ]
  },
  {
   "cell_type": "code",
   "execution_count": null,
   "metadata": {},
   "outputs": [],
   "source": [
    "List=[]\n",
    "for i in range(0,5):\n",
    " a=int(input(\"Enter list item:\"))\n",
    " List.append(a)\n",
    "print(List)\n",
    "List.sort()\n",
    "print(\"Maximum ==>\",List[-1])\n",
    "print(\"Minimum ==>\",List[0])"
   ]
  },
  {
   "cell_type": "markdown",
   "metadata": {},
   "source": [
    "Q:4"
   ]
  },
  {
   "cell_type": "code",
   "execution_count": 2,
   "metadata": {},
   "outputs": [
    {
     "name": "stdout",
     "output_type": "stream",
     "text": [
      "[5, 1, 2, 3, 4]\n"
     ]
    }
   ],
   "source": [
    "List=[1,2,3,4,5]\n",
    "change_List=[]\n",
    "change_List.append(List[-1])\n",
    "for i in range(0,len(List)-1):\n",
    "    change_List.append(List[i])\n",
    "print(change_List)"
   ]
  },
  {
   "cell_type": "markdown",
   "metadata": {},
   "source": [
    "Q:5"
   ]
  },
  {
   "cell_type": "code",
   "execution_count": 1,
   "metadata": {},
   "outputs": [
    {
     "name": "stdout",
     "output_type": "stream",
     "text": [
      "\n"
     ]
    }
   ],
   "source": [
    "a=input(\"Enter string:\")\n",
    "List=(a.split(' '))\n",
    "b=input(\"Enter the string value to delete:\")\n",
    "List.remove(b)\n",
    "string=' '.join(List)\n",
    "print(string)"
   ]
  },
  {
   "cell_type": "markdown",
   "metadata": {},
   "source": [
    "Q:6"
   ]
  },
  {
   "cell_type": "markdown",
   "metadata": {},
   "source": [
    "a=input(\"Enter date:\")\n",
    "List=(a.split('/'))\n",
    "string=List[0]+' '+List[1]+','+List[2]+'.'\n",
    "print(string)"
   ]
  },
  {
   "cell_type": "markdown",
   "metadata": {},
   "source": [
    "Q:7"
   ]
  },
  {
   "cell_type": "code",
   "execution_count": null,
   "metadata": {},
   "outputs": [],
   "source": [
    "a=input(\"Enter a string:\")\n",
    "List=(a.split(\" \"))\n",
    "for i in range(0,len(List)):\n",
    "    str=List[i]\n",
    "    str=str.capitalize()\n",
    "    List[i]=str\n",
    "str=' '.join(List)\n",
    "print(str)"
   ]
  },
  {
   "cell_type": "markdown",
   "metadata": {},
   "source": [
    "Q:8"
   ]
  }
 ],
 "metadata": {
  "kernelspec": {
   "display_name": "Python 3",
   "language": "python",
   "name": "python3"
  },
  "language_info": {
   "codemirror_mode": {
    "name": "ipython",
    "version": 3
   },
   "file_extension": ".py",
   "mimetype": "text/x-python",
   "name": "python",
   "nbconvert_exporter": "python",
   "pygments_lexer": "ipython3",
   "version": "3.12.3"
  }
 },
 "nbformat": 4,
 "nbformat_minor": 2
}
